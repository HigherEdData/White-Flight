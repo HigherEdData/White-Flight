{
 "cells": [
  {
   "cell_type": "markdown",
   "metadata": {},
   "source": [
    "## Creating Data: Compute Measures for Enrollment Panel Data\n",
    "\n",
    "from White Flight in Higher Education? The Case of Hispanic-Serving Institutions\n",
    "\n",
    "by Laura Hamilton, Charlie Eaton, and Simon Cheng"
   ]
  },
  {
   "cell_type": "code",
   "execution_count": 1,
   "metadata": {},
   "outputs": [
    {
     "data": {
      "text/html": [
       "<style>div.jp-Notebook .datagrid-container {min-height: 448px; }</style>"
      ],
      "text/plain": [
       "<IPython.core.display.HTML object>"
      ]
     },
     "metadata": {},
     "output_type": "display_data"
    },
    {
     "name": "stdout",
     "output_type": "stream",
     "text": [
      "warning: For at least one group, control contains all missing values.\n",
      "         Generating missing values for the modes in these groups. Use option\n",
      "         missing to treat missing values as a category.\n",
      "(52 missing values generated)\n",
      "(27,941 observations deleted)\n",
      "(226,630 observations deleted)\n",
      "file d_hsi_white_enrollment_final3.dta saved\n"
     ]
    }
   ],
   "source": [
    "qui {\n",
    "    use hdef19802019, clear\n",
    "\n",
    "**Create separate unitid for Benjamin Franklin Institute for when it goes from Public to Private\n",
    "    **Correct IPEDS reporting error to note it is private in 2016 & 2017\n",
    "replace unitid=unitid+1000000 if unitid==165884 & year>2007\n",
    "    replace control=2 if unitid==1165884\n",
    "    \n",
    "*replace Boricuo college Latinx enrollment as missing for years 1993 & 1994\n",
    "    * when reporting error reduced % Latinx from 95% to 0%\n",
    "replace tefhispt=. if unitid==189413 & year<1995 & year>1992\n",
    "    \n",
    "*keep if teftotlt>100 & ftfeftotlt<. & control<3\n",
    "    \n",
    "foreach var in efbkaat efhispt efwhitt efaiant efasiat {\n",
    "quietly    gen pctt`var'= t`var' / teftotlt * 100\n",
    "quietly gen lnftf`var'=log(ftf`var')\n",
    "    quietly gen lnt`var'=log(t`var')\n",
    "}\n",
    "foreach var in cpopam cpopas cpopbl cpopwh cpophi populationam populationas populationbl populationhi populationwh {\n",
    "    replace `var'=0 if `var'==.\n",
    "        gen ln`var'=log(`var'+1)\n",
    "    }\n",
    "\n",
    "quietly gen lnftfeftotlt=log(ftfeftotlt)\n",
    "replace pcttefhispt= Latinx_enr / tot_enroll * 25 if pcttefhispt==.\n",
    "\n",
    "   \n",
    "quietly gen hispserve=0 if pcttefhispt!=.\n",
    "quietly replace hispserve=1 if pcttefhispt>=25 & pcttefhispt<.\n",
    "\n",
    "xtset unitid year\n",
    "\n",
    "**create var for year in which event occurs observation year of event for subject**\n",
    "by unitid: gen transition=year if hispserv==1 & l.hispserv==0\n",
    "\n",
    "**create var for year in which event occurs in all observations for all years for subject**\n",
    "by unitid: egen hispserveyear = min(transition)\n",
    "\n",
    "**generate a var for the number of years relative to the year of the event (e.g. + or - 2 years)\n",
    "\n",
    "gen hispserveyeardiff= year-hispserveyear\n",
    "}\n",
    "bysort unitid: egen mcontrol=mode(control), minmode\n",
    "\n",
    "drop if year<1990\n",
    "keep if mcontrol==1 & iclevel==1\n",
    "save d_hsi_white_enrollment_final3, replace"
   ]
  }
 ],
 "metadata": {
  "kernelspec": {
   "display_name": "Stata (nbstata)",
   "language": "stata",
   "name": "nbstata"
  },
  "language_info": {
   "file_extension": ".do",
   "mimetype": "text/x-stata",
   "name": "stata",
   "version": "17"
  }
 },
 "nbformat": 4,
 "nbformat_minor": 4
}
