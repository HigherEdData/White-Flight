{
 "cells": [
  {
   "cell_type": "markdown",
   "metadata": {},
   "source": [
    "## Table 2: White First-Year Panel DiD Estimates\n",
    "\n",
    "from White Flight in Higher Education? The Case of Hispanic-Serving Institutions\n",
    "\n",
    "by Laura Hamilton, Charlie Eaton, and Simon Cheng"
   ]
  },
  {
   "cell_type": "code",
   "execution_count": 1,
   "metadata": {},
   "outputs": [
    {
     "data": {
      "text/html": [
       "<style>div.jp-Notebook .datagrid-container {min-height: 448px; }</style>"
      ],
      "text/plain": [
       "<IPython.core.display.HTML object>"
      ]
     },
     "metadata": {},
     "output_type": "display_data"
    }
   ],
   "source": [
    "qui {\n",
    "    use data/hsi_white_enrollment_final3, clear\n",
    "drop if lnftfefwhitt==.\n",
    "drop if year==1990 & hispserve==1\n",
    "gen missingpanel=.\n",
    "sort unitid year\n",
    "bysort unitid: egen maxyear=max(year)\n",
    "bysort unitid: egen minyear=min(year)\n",
    "bysort unitid (year): replace missingpanel=1 if year[_n-1]!=year-1 | lnftfefwhitt==. | lnftfeftotlt==.\n",
    "replace missingpanel=. if year==1990 & lnftfefwhitt!=. & lnftfeftotlt!=.\n",
    "bysort unitid: egen missingpanelall=min(missingpanel)\n",
    "replace missingpanelall=1 if maxyear!=2019 | minyear !=1990\n",
    "bysort unitid: egen alwaystreated=min(hispserve)\n",
    "bysort unitid: egen evertreated=max(hispserve)\n",
    "drop if alwaystreated==1\n",
    "drop if missingpanelall==1\n",
    "xtset unitid year\n",
    "gen treated=1\n",
    "replace treated=0 if year<hispserveyear\n",
    "    gen ln2ftfefhispt=log(ftfefhispt+1)\n",
    "}"
   ]
  },
  {
   "cell_type": "code",
   "execution_count": 2,
   "metadata": {},
   "outputs": [
    {
     "name": "stdout",
     "output_type": "stream",
     "text": [
      "\n",
      "       year |      Freq.     Percent        Cum.\n",
      "------------+-----------------------------------\n",
      "       1990 |        469        3.33        3.33\n",
      "       1991 |        469        3.33        6.67\n",
      "       1992 |        469        3.33       10.00\n",
      "       1993 |        469        3.33       13.33\n",
      "       1994 |        469        3.33       16.67\n",
      "       1995 |        469        3.33       20.00\n",
      "       1996 |        469        3.33       23.33\n",
      "       1997 |        469        3.33       26.67\n",
      "       1998 |        469        3.33       30.00\n",
      "       1999 |        469        3.33       33.33\n",
      "       2000 |        469        3.33       36.67\n",
      "       2001 |        469        3.33       40.00\n",
      "       2002 |        469        3.33       43.33\n",
      "       2003 |        469        3.33       46.67\n",
      "       2004 |        469        3.33       50.00\n",
      "       2005 |        469        3.33       53.33\n",
      "       2006 |        469        3.33       56.67\n",
      "       2007 |        469        3.33       60.00\n",
      "       2008 |        469        3.33       63.33\n",
      "       2009 |        469        3.33       66.67\n",
      "       2010 |        469        3.33       70.00\n",
      "       2011 |        469        3.33       73.33\n",
      "       2012 |        469        3.33       76.67\n",
      "       2013 |        469        3.33       80.00\n",
      "       2014 |        469        3.33       83.33\n",
      "       2015 |        469        3.33       86.67\n",
      "       2016 |        469        3.33       90.00\n",
      "       2017 |        469        3.33       93.33\n",
      "       2018 |        469        3.33       96.67\n",
      "       2019 |        469        3.33      100.00\n",
      "------------+-----------------------------------\n",
      "      Total |     14,070      100.00\n"
     ]
    }
   ],
   "source": [
    "tab year"
   ]
  },
  {
   "cell_type": "code",
   "execution_count": 3,
   "metadata": {},
   "outputs": [
    {
     "name": "stdout",
     "output_type": "stream",
     "text": [
      "\n",
      "      Group |\n",
      "   Variable |\n",
      "   based on |\n",
      " treated    |      Freq.     Percent        Cum.\n",
      "------------+-----------------------------------\n",
      "       1991 |          2        3.57        3.57\n",
      "       1992 |          1        1.79        5.36\n",
      "       1993 |          2        3.57        8.93\n",
      "       1996 |          1        1.79       10.71\n",
      "       1999 |          1        1.79       12.50\n",
      "       2000 |          6       10.71       23.21\n",
      "       2003 |          1        1.79       25.00\n",
      "       2004 |          1        1.79       26.79\n",
      "       2006 |          2        3.57       30.36\n",
      "       2009 |          1        1.79       32.14\n",
      "       2010 |          3        5.36       37.50\n",
      "       2011 |          1        1.79       39.29\n",
      "       2012 |          1        1.79       41.07\n",
      "       2013 |          6       10.71       51.79\n",
      "       2014 |          9       16.07       67.86\n",
      "       2015 |          5        8.93       76.79\n",
      "       2016 |          2        3.57       80.36\n",
      "       2017 |          7       12.50       92.86\n",
      "       2018 |          2        3.57       96.43\n",
      "       2019 |          2        3.57      100.00\n",
      "------------+-----------------------------------\n",
      "      Total |         56      100.00\n"
     ]
    }
   ],
   "source": [
    "egen gvar=csgvar(treated), tvar(year) ivar(unitid)\n",
    "tab gvar if gvar==year\n"
   ]
  },
  {
   "cell_type": "code",
   "execution_count": 4,
   "metadata": {},
   "outputs": [
    {
     "name": "stdout",
     "output_type": "stream",
     "text": [
      "Producing Long Gaps by default\n",
      "----+--- 1 ---+--- 2 ---+--- 3 ---+--- 4 ---+--- 5 \n",
      "..................................................    50\n",
      "..................................................   100\n",
      "..................................................   150\n",
      "..................................................   200\n",
      "..................................................   250\n",
      "..................................................   300\n",
      "..................................................   350\n",
      "..................................................   400\n",
      "..................................................   450\n",
      "..................................................   500\n",
      "..................................................   550\n",
      "..............................\n",
      "Difference-in-difference with Multiple Time Periods\n",
      "Outcome model  : regression adjustment\n",
      "Treatment model: none\n",
      "------------------------------------------------------------------------------\n",
      "             |               Robust\n",
      "             | Coefficient  std. err.      z    P>|z|     [95% conf. interval]\n",
      "-------------+----------------------------------------------------------------\n",
      "    GAverage |  -.1332323   .0279505    -4.77   0.000    -.1880144   -.0784503\n",
      "       g1991 |  -.2757546   .0935808    -2.95   0.003    -.4591696   -.0923396\n",
      "       g1992 |  -1.120247   .0743122   -15.07   0.000    -1.265896   -.9745975\n",
      "       g1993 |  -.4393328   .3448986    -1.27   0.203    -1.115322     .236656\n",
      "       g1996 |  -.0653883   .0833167    -0.78   0.433     -.228686    .0979093\n",
      "       g1999 |  -.5744039   .0500605   -11.47   0.000    -.6725207   -.4762872\n",
      "       g2000 |  -.3027768   .1203761    -2.52   0.012    -.5387097   -.0668439\n",
      "       g2003 |  -.3028828   .0577944    -5.24   0.000    -.4161578   -.1896079\n",
      "       g2004 |  -.2243229   .0575183    -3.90   0.000    -.3370567   -.1115892\n",
      "       g2006 |  -.1842942   .2228536    -0.83   0.408    -.6210793    .2524909\n",
      "       g2009 |  -.1324794   .0645436    -2.05   0.040    -.2589825   -.0059762\n",
      "       g2010 |  -.0212905   .1242267    -0.17   0.864    -.2647704    .2221895\n",
      "       g2011 |   .0112931   .0350259     0.32   0.747    -.0573565    .0799427\n",
      "       g2012 |   -.080458   .0335797    -2.40   0.017    -.1462731   -.0146429\n",
      "       g2013 |   -.062095   .0783826    -0.79   0.428     -.215722     .091532\n",
      "       g2014 |  -.1387262   .0422677    -3.28   0.001    -.2215693   -.0558831\n",
      "       g2015 |  -.0130852   .0336763    -0.39   0.698    -.0790894    .0529191\n",
      "       g2016 |  -.0474432   .0335679    -1.41   0.158    -.1132352    .0183487\n",
      "       g2017 |   .0461145   .0593814     0.78   0.437    -.0702708    .1624999\n",
      "       g2018 |   .1007022    .054769     1.84   0.066     -.006643    .2080475\n",
      "       g2019 |  -.0178076   .0310553    -0.57   0.566    -.0786748    .0430596\n",
      "------------------------------------------------------------------------------\n"
     ]
    }
   ],
   "source": [
    "csdid2 lnftfefwhitt lnpop* lncpop*, ivar(unitid) time(year) gvar(gvar) ///\n",
    "        method(reg) agg(group)"
   ]
  },
  {
   "cell_type": "code",
   "execution_count": 5,
   "metadata": {},
   "outputs": [],
   "source": [
    "bysort unitid: egen treatment=max(treated)"
   ]
  },
  {
   "cell_type": "code",
   "execution_count": 6,
   "metadata": {},
   "outputs": [],
   "source": [
    "rename treated SimpleATT"
   ]
  },
  {
   "cell_type": "code",
   "execution_count": 7,
   "metadata": {},
   "outputs": [
    {
     "name": "stdout",
     "output_type": "stream",
     "text": [
      "\n",
      "Number of groups and treatment time\n",
      "\n",
      "Time variable: year\n",
      "Control:       SimpleATT = 0\n",
      "Treatment:     SimpleATT = 1\n",
      "-----------------------------------\n",
      "             |   Control  Treatment\n",
      "-------------+---------------------\n",
      "Group        |\n",
      "      unitid |       413         56\n",
      "-------------+---------------------\n",
      "Time         |\n",
      "     Minimum |      1990       1991\n",
      "     Maximum |      1990       2019\n",
      "-----------------------------------\n",
      "\n",
      "Difference-in-differences regression                    Number of obs = 14,070\n",
      "Data type: Longitudinal\n",
      "\n",
      "                               (Std. err. adjusted for 469 clusters in unitid)\n",
      "------------------------------------------------------------------------------\n",
      "             |               Robust\n",
      "lnftfefwhitt | Coefficient  std. err.      t    P>|t|     [95% conf. interval]\n",
      "-------------+----------------------------------------------------------------\n",
      "ATET         |\n",
      "   SimpleATT |\n",
      "   (1 vs 0)  |  -.0621699   .0338114    -1.84   0.067    -.1286108    .0042711\n",
      "------------------------------------------------------------------------------\n",
      "Note: ATET estimate adjusted for covariates, panel effects, and time effects.\n"
     ]
    }
   ],
   "source": [
    "xtdidregress (lnftfefwhitt lnpop* lncpop*)(SimpleATT), group(unitid) time(year) "
   ]
  },
  {
   "cell_type": "code",
   "execution_count": 8,
   "metadata": {},
   "outputs": [
    {
     "name": "stdout",
     "output_type": "stream",
     "text": [
      "(MWFE estimator converged in 2 iterations)\n",
      "\n",
      "HDFE Linear regression                            Number of obs   =     14,070\n",
      "Absorbing 2 HDFE groups                           F(  11,    468) =       5.65\n",
      "Statistics robust to heteroskedasticity           Prob > F        =     0.0000\n",
      "                                                  R-squared       =     0.9640\n",
      "                                                  Adj R-squared   =     0.9627\n",
      "                                                  Within R-sq.    =     0.0606\n",
      "Number of clusters (unitid)  =        469         Root MSE        =     0.2600\n",
      "\n",
      "                               (Std. err. adjusted for 469 clusters in unitid)\n",
      "------------------------------------------------------------------------------\n",
      "             |               Robust\n",
      "lnftfefwhitt | Coefficient  std. err.      t    P>|t|     [95% conf. interval]\n",
      "-------------+----------------------------------------------------------------\n",
      "   SimpleATT |  -.0621699   .0338114    -1.84   0.067    -.1286108    .0042711\n",
      "lnpopulati~m |  -.1137203   .1049447    -1.08   0.279    -.3199415    .0925009\n",
      "lnpopulati~s |    .191968    .074381     2.58   0.010     .0458059    .3381302\n",
      "lnpopulati~l |   .0240105   .0638874     0.38   0.707    -.1015313    .1495522\n",
      "lnpopulati~i |  -.1417585    .063981    -2.22   0.027    -.2674841   -.0160328\n",
      "lnpopulati~h |  -.0235645   .1741863    -0.14   0.892    -.3658487    .3187196\n",
      "    lncpopam |  -.0816792   .0331543    -2.46   0.014    -.1468288   -.0165295\n",
      "    lncpopas |   .0217899   .0292754     0.74   0.457    -.0357376    .0793174\n",
      "    lncpopbl |  -.1231621   .0411276    -2.99   0.003    -.2039798   -.0423445\n",
      "    lncpopwh |   .5859883   .1179346     4.97   0.000     .3542415    .8177351\n",
      "    lncpophi |   .0229837   .0438946     0.52   0.601    -.0632711    .1092386\n",
      "       _cons |   2.452952   1.628471     1.51   0.133    -.7470688    5.652973\n",
      "------------------------------------------------------------------------------\n",
      "\n",
      "Absorbed degrees of freedom:\n",
      "-----------------------------------------------------+\n",
      " Absorbed FE | Categories  - Redundant  = Num. Coefs |\n",
      "-------------+---------------------------------------|\n",
      "      unitid |       469         469           0    *|\n",
      "        year |        30           0          30     |\n",
      "-----------------------------------------------------+\n",
      "* = FE nested within cluster; treated as redundant for DoF computation\n",
      "(est1 stored)\n"
     ]
    }
   ],
   "source": [
    "eststo: reghdfe lnftfefwhitt SimpleATT lnpop* lncpop*, absorb(unitid year) cluster(unitid) "
   ]
  },
  {
   "cell_type": "code",
   "execution_count": 9,
   "metadata": {},
   "outputs": [
    {
     "name": "stdout",
     "output_type": "stream",
     "text": [
      "Producing Long Gaps by default\n",
      "----+--- 1 ---+--- 2 ---+--- 3 ---+--- 4 ---+--- 5 \n",
      "..................................................    50\n",
      "..................................................   100\n",
      "..................................................   150\n",
      "..................................................   200\n",
      "..................................................   250\n",
      "..................................................   300\n",
      "..................................................   350\n",
      "..................................................   400\n",
      "..................................................   450\n",
      "..................................................   500\n",
      "..................................................   550\n",
      "..............................\n",
      "Difference-in-difference with Multiple Time Periods\n",
      "Outcome model  : regression adjustment\n",
      "Treatment model: none\n",
      "------------------------------------------------------------------------------\n",
      "             |               Robust\n",
      "             | Coefficient  std. err.      z    P>|z|     [95% conf. interval]\n",
      "-------------+----------------------------------------------------------------\n",
      "   SimpleATT |  -.2535455   .0690018    -3.67   0.000    -.3887866   -.1183044\n",
      "------------------------------------------------------------------------------\n",
      "(est2 stored)\n"
     ]
    }
   ],
   "source": [
    "eststo: csdid2 lnftfefwhitt lnpop* lncpop*, ivar(unitid) time(year) gvar(gvar) ///\n",
    "        method(reg) agg(simple)"
   ]
  },
  {
   "cell_type": "code",
   "execution_count": 10,
   "metadata": {},
   "outputs": [
    {
     "name": "stdout",
     "output_type": "stream",
     "text": [
      "\n",
      "--------------------------------------------------------------------\n",
      "                                      (1)                     (2)   \n",
      "                           TWFE Panel DiD                   CSDID   \n",
      "--------------------------------------------------------------------\n",
      "SimpleATT                          -0.062+                 -0.254***\n",
      "                                  (0.034)                 (0.069)   \n",
      "--------------------------------------------------------------------\n",
      "schools                               469                           \n",
      "N                                  14,070                           \n",
      "--------------------------------------------------------------------\n"
     ]
    }
   ],
   "source": [
    "esttab , star(+ .1 * .05 ** .01 *** .001) ///\n",
    "        stats(N_clust N, fmt(%9.0fc %9.0fc) label(\"schools\" \"N\")) ///\n",
    "        se(%9.3fc) b(%9.3fc) drop(ln* _con*)  ///\n",
    "        label mtitle(\"TWFE Panel DiD\" \"CSDID\") ///\n",
    "        nonotes modelwidth(20)"
   ]
  },
  {
   "cell_type": "code",
   "execution_count": 11,
   "metadata": {},
   "outputs": [
    {
     "name": "stdout",
     "output_type": "stream",
     "text": [
      "Placebo replications (500). This may take some time.\n",
      "----+--- 1 ---+--- 2 ---+--- 3 ---+--- 4 ---+--- 5\n",
      "..................................................     50\n",
      "..................................................     100\n",
      "..................................................     150\n",
      "..................................................     200\n",
      "..................................................     250\n",
      "..................................................     300\n",
      "..................................................     350\n",
      "..................................................     400\n",
      "..................................................     450\n",
      "..................................................     500\n",
      "\n",
      "\n",
      "Synthetic Difference-in-Differences Estimator\n",
      "\n",
      "-----------------------------------------------------------------------------\n",
      "lnftfefwhitt |     ATT     Std. Err.     t      P>|t|    [95% Conf. Interval]\n",
      "-------------+---------------------------------------------------------------\n",
      "   SimpleATT |  -0.17143    0.05298    -3.24    0.001    -0.27527    -0.06760\n",
      "-----------------------------------------------------------------------------\n",
      "95% CIs and p-values are based on Large-Sample approximations.\n",
      "Refer to Arkhangelsky et al., (2020) for theoretical derivations.\n",
      "(est3 stored)\n"
     ]
    }
   ],
   "source": [
    "eststo: sdid lnftfefwhitt unitid year SimpleATT, vce(placebo) ///\n",
    "covariates(lnpop* lncpop*) seed(1234) reps(500)"
   ]
  },
  {
   "cell_type": "code",
   "execution_count": 12,
   "metadata": {},
   "outputs": [
    {
     "name": "stdout",
     "output_type": "stream",
     "text": [
      "Placebo replications (500). This may take some time.\n",
      "----+--- 1 ---+--- 2 ---+--- 3 ---+--- 4 ---+--- 5\n",
      "..................................................     50\n",
      "..................................................     100\n",
      "..................................................     150\n",
      "..................................................     200\n",
      "..................................................     250\n",
      "..................................................     300\n",
      "..................................................     350\n",
      "..................................................     400\n",
      "..................................................     450\n",
      "..................................................     500\n",
      "\n",
      "\n",
      "Synthetic Difference-in-Differences Estimator\n",
      "\n",
      "-----------------------------------------------------------------------------\n",
      "lnftfefwhitt |     ATT     Std. Err.     t      P>|t|    [95% Conf. Interval]\n",
      "-------------+---------------------------------------------------------------\n",
      "   SimpleATT |  -0.15958    0.04960    -3.22    0.001    -0.25680    -0.06237\n",
      "-----------------------------------------------------------------------------\n",
      "95% CIs and p-values are based on Large-Sample approximations.\n",
      "Refer to Arkhangelsky et al., (2020) for theoretical derivations.\n",
      "(est4 stored)\n"
     ]
    }
   ],
   "source": [
    "eststo: sdid lnftfefwhitt unitid year SimpleATT, vce(placebo) ///\n",
    "covariates(lnpop* lncpop* ln2ftfefhispt) seed(1234) reps(500)"
   ]
  },
  {
   "cell_type": "code",
   "execution_count": 13,
   "metadata": {},
   "outputs": [
    {
     "name": "stdout",
     "output_type": "stream",
     "text": [
      "(5,159 observations deleted)\n",
      "(694 real changes made)\n",
      "(7,239 missing values generated)\n",
      "(1,672 observations deleted)\n",
      "(190 observations deleted)\n"
     ]
    }
   ],
   "source": [
    "drop if year<2001\n",
    "drop missingpanelall\n",
    "replace missingpanel=1 if admitpct==.\n",
    "bysort unitid: egen missingpanelall=min(missingpanel)\n",
    "drop if missingpanelall==1\n",
    "\n",
    "drop alwaystreated\n",
    "bysort unitid: egen alwaystreated=min(SimpleATT)\n",
    "drop if alwaystreated==1"
   ]
  },
  {
   "cell_type": "code",
   "execution_count": 14,
   "metadata": {},
   "outputs": [
    {
     "name": "stdout",
     "output_type": "stream",
     "text": [
      "Placebo replications (500). This may take some time.\n",
      "----+--- 1 ---+--- 2 ---+--- 3 ---+--- 4 ---+--- 5\n",
      "..................................................     50\n",
      "..................................................     100\n",
      "..................................................     150\n",
      "..................................................     200\n",
      "..................................................     250\n",
      "..................................................     300\n",
      "..................................................     350\n",
      "..................................................     400\n",
      "..................................................     450\n",
      "..................................................     500\n",
      "\n",
      "\n",
      "Synthetic Difference-in-Differences Estimator\n",
      "\n",
      "-----------------------------------------------------------------------------\n",
      "lnftfefwhitt |     ATT     Std. Err.     t      P>|t|    [95% Conf. Interval]\n",
      "-------------+---------------------------------------------------------------\n",
      "   SimpleATT |  -0.07995    0.03508    -2.28    0.023    -0.14870    -0.01119\n",
      "-----------------------------------------------------------------------------\n",
      "95% CIs and p-values are based on Large-Sample approximations.\n",
      "Refer to Arkhangelsky et al., (2020) for theoretical derivations.\n",
      "(est5 stored)\n"
     ]
    }
   ],
   "source": [
    "eststo: sdid lnftfefwhitt unitid year SimpleATT, vce(placebo) ///\n",
    "covariates(lnpop* lncpop* ln2ftfefhispt admitpct) seed(1234) reps(500) "
   ]
  },
  {
   "cell_type": "code",
   "execution_count": 18,
   "metadata": {},
   "outputs": [
    {
     "name": "stdout",
     "output_type": "stream",
     "text": [
      "\n",
      "------------------------------------------------------------------------------------------\n",
      "                            (1)           (2)           (3)           (4)           (5)   \n",
      "                     TWFE Pan~D         CSDID    SDiD Pla~o    SDiD Pla~e    SDiD Pla~s   \n",
      "------------------------------------------------------------------------------------------\n",
      "SimpleATT                -0.062+       -0.254***     -0.171**      -0.160**      -0.080*  \n",
      "                        (0.034)       (0.069)       (0.053)       (0.050)       (0.035)   \n",
      "------------------------------------------------------------------------------------------\n",
      "schools                     469                         469           469           371   \n",
      "N                        14,070                      14,070        14,070         7,049   \n",
      "------------------------------------------------------------------------------------------\n"
     ]
    }
   ],
   "source": [
    "set line 150\n",
    "esttab , star(+ .1 * .05 ** .01 *** .001) ///\n",
    "        stats(N_clust N, fmt(%9.0fc %9.0fc) label(\"schools\" \"N\")) ///\n",
    "        se(%9.3fc) b(%9.3fc) drop(ln* _con*) ///\n",
    "        label mtitle(\"TWFE Panel DiD\" \"CSDID\" \"SDiD Placebo\" \"SDiD Placebo Latine\" \"SDiD Placebo Latine Admissions\") ///\n",
    "        nonotes modelwidth(10)"
   ]
  },
  {
   "cell_type": "code",
   "execution_count": 19,
   "metadata": {},
   "outputs": [
    {
     "name": "stdout",
     "output_type": "stream",
     "text": [
      ".06011711\n",
      ".12715737\n",
      ".15717843\n",
      ".14785621\n",
      ".07688365\n"
     ]
    }
   ],
   "source": [
    "display 1-exp(-.062)\n",
    "display 1-exp(-.136)\n",
    "display 1-exp(-.171)\n",
    "display 1-exp(-.160)\n",
    "display 1-exp(-.080)"
   ]
  },
  {
   "cell_type": "code",
   "execution_count": 20,
   "metadata": {},
   "outputs": [],
   "source": [
    "qui esttab using ///\n",
    "    tables/t2_did_enrollments.rtf, ///\n",
    "    star(+ .1 * .05 ** .01 *** .001) ///\n",
    "        stats(N_clust N, fmt(%9.0fc %9.0fc) label(\"schools\" \"N\")) ///\n",
    "        se(%9.3fc) b(%9.3fc) drop(ln* _con*)  ///\n",
    "        label mtitle(\"Panel DiD / TWFE\" \"CSiID\" \"SDiD Placebo\" \"SDiD Placebo Latine Control\" \"SDiD Placebo Latine, Admissions Controls\") ///\n",
    "        nonotes modelwidth(10) replace"
   ]
  },
  {
   "cell_type": "code",
   "execution_count": null,
   "metadata": {},
   "outputs": [],
   "source": []
  }
 ],
 "metadata": {
  "kernelspec": {
   "display_name": "Stata (nbstata)",
   "language": "stata",
   "name": "nbstata"
  },
  "language_info": {
   "file_extension": ".do",
   "mimetype": "text/x-stata",
   "name": "stata",
   "version": "17"
  }
 },
 "nbformat": 4,
 "nbformat_minor": 4
}
