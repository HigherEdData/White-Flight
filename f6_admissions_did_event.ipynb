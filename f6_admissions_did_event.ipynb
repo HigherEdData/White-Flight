{
 "cells": [
  {
   "cell_type": "markdown",
   "metadata": {},
   "source": [
    "## Figure 6: White Acceptance Rate Panel DiD Event Study Estimates\n",
    "\n",
    "from White Flight in Higher Education? The Case of Hispanic-Serving Institutions\n",
    "\n",
    "by Laura Hamilton, Charlie Eaton, and Simon Cheng"
   ]
  },
  {
   "cell_type": "code",
   "execution_count": 1,
   "metadata": {},
   "outputs": [
    {
     "data": {
      "text/html": [
       "<style>div.jp-Notebook .datagrid-container {min-height: 448px; }</style>"
      ],
      "text/plain": [
       "<IPython.core.display.HTML object>"
      ]
     },
     "metadata": {},
     "output_type": "display_data"
    }
   ],
   "source": [
    "qui {\n",
    "    use data/hsi_ca_tx_applications, clear\n",
    "\n",
    "    drop if lnWhite_app==. | lnpopulationwh==.\n",
    "   \n",
    "   drop hispserveyear\n",
    "    gen hispserveyear=year if hispserve==1\n",
    "   bysort unitid: egen hispserveyearall=min(hispserveyear)\n",
    "gen treated=0\n",
    "replace treated=1 if year>=hispserveyearall\n",
    "    drop if year>2019 | year<2000\n",
    "    bysort unitid: egen maxyear=max(year)\n",
    "bysort unitid: egen minyear=min(year)\n",
    "    gen missingpanel=.\n",
    "    bysort unitid (year): replace missingpanel=1 if year[_n-1]!=year-1\n",
    "    replace missingpanel=. if year==2000\n",
    "    bysort unitid: egen missingpanelall=min(missingpanel)\n",
    "    replace missingpanelall=1 if maxyear!=2019 | minyear !=2000\n",
    "    \n",
    "    bysort unitid: egen alwaystreated=min(treated)\n",
    "bysort unitid: egen evertreated=max(treated)\n",
    "\n",
    "}"
   ]
  },
  {
   "cell_type": "code",
   "execution_count": 2,
   "metadata": {},
   "outputs": [
    {
     "name": "stdout",
     "output_type": "stream",
     "text": [
      "(375 observations deleted)\n",
      "(67 observations deleted)\n"
     ]
    }
   ],
   "source": [
    "drop if alwaystreated==1\n",
    "drop if missingpanelall==1"
   ]
  },
  {
   "cell_type": "code",
   "execution_count": 3,
   "metadata": {},
   "outputs": [],
   "source": [
    "egen gvar=csgvar(treated), tvar(year) ivar(unitid)"
   ]
  },
  {
   "cell_type": "code",
   "execution_count": 4,
   "metadata": {},
   "outputs": [
    {
     "name": "stdout",
     "output_type": "stream",
     "text": [
      "(20 missing values generated)\n"
     ]
    }
   ],
   "source": [
    "gen white_adm_rt=White_admit / White_app"
   ]
  },
  {
   "cell_type": "code",
   "execution_count": 5,
   "metadata": {},
   "outputs": [
    {
     "name": "stdout",
     "output_type": "stream",
     "text": [
      "\n",
      "       year |      Freq.     Percent        Cum.\n",
      "------------+-----------------------------------\n",
      "       2000 |         42        5.12        5.12\n",
      "       2001 |         42        5.12       10.24\n",
      "       2002 |         42        5.12       15.37\n",
      "       2003 |         42        5.12       20.49\n",
      "       2004 |         42        5.12       25.61\n",
      "       2005 |         42        5.12       30.73\n",
      "       2006 |         42        5.12       35.85\n",
      "       2007 |         42        5.12       40.98\n",
      "       2008 |         42        5.12       46.10\n",
      "       2009 |         42        5.12       51.22\n",
      "       2010 |         42        5.12       56.34\n",
      "       2011 |         42        5.12       61.46\n",
      "       2012 |         42        5.12       66.59\n",
      "       2013 |         42        5.12       71.71\n",
      "       2014 |         42        5.12       76.83\n",
      "       2015 |         42        5.12       81.95\n",
      "       2016 |         42        5.12       87.07\n",
      "       2017 |         42        5.12       92.20\n",
      "       2018 |         42        5.12       97.32\n",
      "       2019 |         22        2.68      100.00\n",
      "------------+-----------------------------------\n",
      "      Total |        820      100.00\n"
     ]
    }
   ],
   "source": [
    "tab year if white_adm_rt!=."
   ]
  },
  {
   "cell_type": "code",
   "execution_count": 6,
   "metadata": {},
   "outputs": [
    {
     "name": "stdout",
     "output_type": "stream",
     "text": [
      "Panel is not balanced\n",
      "Will use observations with Pair balanced (observed at t0 and t1)\n",
      "..................................................\n",
      "..................................................\n",
      ".............x....................................\n",
      "..................................................\n",
      "........x..................x\n",
      "Difference-in-difference with Multiple Time Periods\n",
      "\n",
      "                                                           Number of obs = 820\n",
      "Outcome model  : regression adjustment\n",
      "Treatment model: none\n",
      "------------------------------------------------------------------------------\n",
      "             | Coefficient  Std. err.      z    P>|z|     [95% conf. interval]\n",
      "-------------+----------------------------------------------------------------\n",
      "         ATT |   .0064709   .0402105     0.16   0.872    -.0723403    .0852821\n",
      "------------------------------------------------------------------------------\n",
      "Control: Never Treated\n",
      "\n",
      "See Callaway and Sant'Anna (2021) for details\n"
     ]
    },
    {
     "data": {
      "image/png": "[encoded data removed]",
      "text/plain": [
       "<IPython.core.display.Image object>"
      ]
     },
     "metadata": {},
     "output_type": "display_data"
    }
   ],
   "source": [
    "csdid white_adm_rt lnpop* lncpop*, ivar(unitid) time(year) gvar(gvar) ///\n",
    "        method(reg) agg(simple) long2\n",
    "qui csdid_estat event, window(-9 10)\n",
    "csdid_plot, style(rcap) scheme(plotplain) ///\n",
    "legend(off)"
   ]
  },
  {
   "cell_type": "code",
   "execution_count": 8,
   "metadata": {},
   "outputs": [
    {
     "name": "stdout",
     "output_type": "stream",
     "text": [
      "file figures/f6_event_white_admissions.pdf saved as PDF format\n"
     ]
    }
   ],
   "source": [
    "graph export figures/f6_event_white_admissions.pdf, replace"
   ]
  },
  {
   "cell_type": "code",
   "execution_count": null,
   "metadata": {},
   "outputs": [],
   "source": []
  }
 ],
 "metadata": {
  "kernelspec": {
   "display_name": "Stata (nbstata)",
   "language": "stata",
   "name": "nbstata"
  },
  "language_info": {
   "file_extension": ".do",
   "mimetype": "text/x-stata",
   "name": "stata",
   "version": "17"
  }
 },
 "nbformat": 4,
 "nbformat_minor": 4
}
