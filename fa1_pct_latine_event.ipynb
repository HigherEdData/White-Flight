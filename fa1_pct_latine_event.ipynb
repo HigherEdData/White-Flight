{
 "cells": [
  {
   "cell_type": "markdown",
   "metadata": {},
   "source": [
    "## Appendix Figure A1: Percent Latine CSDID Event Study Estimates\n",
    "for White Flight in Higher Education? The Case of Hispanic-Serving Institutions\n",
    "\n",
    "by Laura Hamilton, Charlie Eaton, and Simon Cheng"
   ]
  },
  {
   "cell_type": "code",
   "execution_count": 1,
   "metadata": {},
   "outputs": [
    {
     "data": {
      "text/html": [
       "<style>div.jp-Notebook .datagrid-container {min-height: 448px; }</style>"
      ],
      "text/plain": [
       "<IPython.core.display.HTML object>"
      ]
     },
     "metadata": {},
     "output_type": "display_data"
    }
   ],
   "source": [
    "qui {\n",
    "    use data/hsi_white_enrollment_final3, clear\n",
    "drop if lnftfefwhitt==. \n",
    "drop if year==1990 & hispserve==1\n",
    "gen missingpanel=.\n",
    "sort unitid year\n",
    "bysort unitid: egen maxyear=max(year)\n",
    "bysort unitid: egen minyear=min(year)\n",
    "bysort unitid (year): replace missingpanel=1 if year[_n-1]!=year-1 | lnftfefwhitt==. | lnftfeftotlt==.\n",
    "replace missingpanel=. if year==1990 & lnftfefwhitt!=. & lnftfeftotlt!=.\n",
    "bysort unitid: egen missingpanelall=min(missingpanel)\n",
    "replace missingpanelall=1 if maxyear!=2019 | minyear !=1990\n",
    "bysort unitid: egen alwaystreated=min(hispserve)\n",
    "bysort unitid: egen evertreated=max(hispserve)\n",
    "drop if alwaystreated==1\n",
    "drop if missingpanelall==1\n",
    "gen treated=1\n",
    "replace treated=0 if year<hispserveyear\n",
    "}"
   ]
  },
  {
   "cell_type": "code",
   "execution_count": 2,
   "metadata": {},
   "outputs": [
    {
     "name": "stdout",
     "output_type": "stream",
     "text": [
      "file data/d_whiteflight_balanced.dta saved\n"
     ]
    }
   ],
   "source": [
    "save data/d_whiteflight_balanced, replace"
   ]
  },
  {
   "cell_type": "code",
   "execution_count": 3,
   "metadata": {},
   "outputs": [
    {
     "name": "stdout",
     "output_type": "stream",
     "text": [
      "\n",
      "       year |      Freq.     Percent        Cum.\n",
      "------------+-----------------------------------\n",
      "       1990 |        469        3.33        3.33\n",
      "       1991 |        469        3.33        6.67\n",
      "       1992 |        469        3.33       10.00\n",
      "       1993 |        469        3.33       13.33\n",
      "       1994 |        469        3.33       16.67\n",
      "       1995 |        469        3.33       20.00\n",
      "       1996 |        469        3.33       23.33\n",
      "       1997 |        469        3.33       26.67\n",
      "       1998 |        469        3.33       30.00\n",
      "       1999 |        469        3.33       33.33\n",
      "       2000 |        469        3.33       36.67\n",
      "       2001 |        469        3.33       40.00\n",
      "       2002 |        469        3.33       43.33\n",
      "       2003 |        469        3.33       46.67\n",
      "       2004 |        469        3.33       50.00\n",
      "       2005 |        469        3.33       53.33\n",
      "       2006 |        469        3.33       56.67\n",
      "       2007 |        469        3.33       60.00\n",
      "       2008 |        469        3.33       63.33\n",
      "       2009 |        469        3.33       66.67\n",
      "       2010 |        469        3.33       70.00\n",
      "       2011 |        469        3.33       73.33\n",
      "       2012 |        469        3.33       76.67\n",
      "       2013 |        469        3.33       80.00\n",
      "       2014 |        469        3.33       83.33\n",
      "       2015 |        469        3.33       86.67\n",
      "       2016 |        469        3.33       90.00\n",
      "       2017 |        469        3.33       93.33\n",
      "       2018 |        469        3.33       96.67\n",
      "       2019 |        469        3.33      100.00\n",
      "------------+-----------------------------------\n",
      "      Total |     14,070      100.00\n"
     ]
    }
   ],
   "source": [
    "tab year"
   ]
  },
  {
   "cell_type": "code",
   "execution_count": 4,
   "metadata": {},
   "outputs": [],
   "source": [
    "egen gvar=csgvar(treated), tvar(year) ivar(unitid)"
   ]
  },
  {
   "cell_type": "code",
   "execution_count": 3,
   "metadata": {},
   "outputs": [
    {
     "name": "stdout",
     "output_type": "stream",
     "text": [
      "lnpopulationam  lnpopulationbl  lnpopulationwh  lncpopas        lncpopwh\n",
      "lnpopulationas  lnpopulationhi  lncpopam        lncpopbl        lncpophi\n"
     ]
    }
   ],
   "source": [
    "// Display log 18-24 population by race control variable names. //\n",
    "// lnpop* is state level count. lncpop* is county level count\n",
    "ds lnpop* lncpop*, varwidth(20)"
   ]
  },
  {
   "cell_type": "code",
   "execution_count": 4,
   "metadata": {},
   "outputs": [
    {
     "name": "stdout",
     "output_type": "stream",
     "text": [
      "..................................................\n",
      "..................................................\n",
      "..................................................\n",
      "..................................................\n",
      "..................................................\n",
      "..................................................\n",
      "..................................................\n",
      "..................................................\n",
      "..................................................\n",
      "..................................................\n",
      "..................................................\n",
      "..............................\n",
      "Difference-in-difference with Multiple Time Periods\n",
      "\n",
      "                                                        Number of obs = 14,070\n",
      "Outcome model  : regression adjustment\n",
      "Treatment model: none\n",
      "------------------------------------------------------------------------------\n",
      "             | Coefficient  Std. err.      z    P>|z|     [95% conf. interval]\n",
      "-------------+----------------------------------------------------------------\n",
      "         ATT |   5.107553   .9332337     5.47   0.000     3.278448    6.936657\n",
      "------------------------------------------------------------------------------\n",
      "Control: Never Treated\n",
      "\n",
      "See Callaway and Sant'Anna (2021) for details\n"
     ]
    },
    {
     "data": {
      "image/png": "[encoded data removed]",
      "text/plain": [
       "<IPython.core.display.Image object>"
      ]
     },
     "metadata": {},
     "output_type": "display_data"
    }
   ],
   "source": [
    "csdid pcttefhispt lnpop* lncpop*, ivar(unitid) time(year) gvar(gvar) ///\n",
    "        method(reg) agg(simple) long2\n",
    "qui csdid_estat event, window(-19 20)\n",
    "csdid_plot, style(rcap) scheme(plotplain) ///\n",
    "legend(off)"
   ]
  },
  {
   "cell_type": "code",
   "execution_count": 7,
   "metadata": {},
   "outputs": [
    {
     "name": "stdout",
     "output_type": "stream",
     "text": [
      "Producing Long Gaps by default\n",
      "----+--- 1 ---+--- 2 ---+--- 3 ---+--- 4 ---+--- 5 \n",
      "..................................................    50\n",
      "..................................................   100\n",
      "..................................................   150\n",
      "..................................................   200\n",
      "..................................................   250\n",
      "..................................................   300\n",
      "..................................................   350\n",
      "..................................................   400\n",
      "..................................................   450\n",
      "..................................................   500\n",
      "..................................................   550\n",
      "..............................\n",
      "Difference-in-difference with Multiple Time Periods\n",
      "Outcome model  : regression adjustment\n",
      "Treatment model: none\n",
      "------------------------------------------------------------------------------\n",
      "             |               Robust\n",
      "             | Coefficient  std. err.      z    P>|z|     [95% conf. interval]\n",
      "-------------+----------------------------------------------------------------\n",
      "     Pre_avg |  -4.683429   .4306249   -10.88   0.000    -5.527438   -3.839419\n",
      "    Post_avg |   8.290803   1.590997     5.21   0.000     5.172507     11.4091\n",
      "        tm29 |  -6.310886   .8763532    -7.20   0.000    -8.028506   -4.593265\n",
      "        tm28 |  -7.550582   .9238937    -8.17   0.000    -9.361381   -5.739784\n",
      "        tm27 |  -6.652878   .8511383    -7.82   0.000    -8.321078   -4.984677\n",
      "        tm26 |  -6.008907    .878719    -6.84   0.000    -7.731165   -4.286649\n",
      "        tm25 |  -5.806082   .8062793    -7.20   0.000    -7.386361   -4.225804\n",
      "        tm24 |   -6.03408   .8106969    -7.44   0.000    -7.623016   -4.445143\n",
      "        tm23 |   -6.11466   .7666106    -7.98   0.000    -7.617189   -4.612131\n",
      "        tm22 |  -5.844315   .7474901    -7.82   0.000    -7.309369   -4.379262\n",
      "        tm21 |  -5.857123   .7040801    -8.32   0.000    -7.237094   -4.477151\n",
      "        tm20 |  -6.056157   .5978725   -10.13   0.000    -7.227966   -4.884349\n",
      "        tm19 |  -5.898285   .5490713   -10.74   0.000    -6.974445   -4.822125\n",
      "        tm18 |   -5.70178   .5357709   -10.64   0.000    -6.751872   -4.651688\n",
      "        tm17 |  -5.485537    .525689   -10.43   0.000    -6.515869   -4.455206\n",
      "        tm16 |  -5.553556   .5202594   -10.67   0.000    -6.573246   -4.533867\n",
      "        tm15 |  -5.209616   .5391643    -9.66   0.000    -6.266358   -4.152873\n",
      "        tm14 |  -4.738045   .4930164    -9.61   0.000     -5.70434   -3.771751\n",
      "        tm13 |  -4.499345   .4900814    -9.18   0.000    -5.459887   -3.538803\n",
      "        tm12 |  -4.455137   .4673475    -9.53   0.000    -5.371121   -3.539153\n",
      "        tm11 |  -4.304107   .4475462    -9.62   0.000    -5.181281   -3.426932\n",
      "        tm10 |  -3.990651   .4219666    -9.46   0.000    -4.817691   -3.163612\n",
      "         tm9 |  -3.831452    .416414    -9.20   0.000    -4.647608   -3.015295\n",
      "         tm8 |  -3.194994   .3940702    -8.11   0.000    -3.967358   -2.422631\n",
      "         tm7 |  -2.741035    .355017    -7.72   0.000    -3.436856   -2.045215\n",
      "         tm6 |  -2.763581   .3629097    -7.62   0.000    -3.474871   -2.052291\n",
      "         tm5 |   -2.38124   .3173263    -7.50   0.000    -3.003188   -1.759292\n",
      "         tm4 |  -1.936066   .2795963    -6.92   0.000    -2.484065   -1.388067\n",
      "         tm3 |  -1.324513   .2248268    -5.89   0.000    -1.765165   -.8838603\n",
      "         tm2 |  -.8913948   .2041866    -4.37   0.000    -1.291593   -.4911964\n",
      "         tp0 |   1.305025   .1688245     7.73   0.000     .9741351    1.635915\n",
      "         tp1 |   1.760813   .2654811     6.63   0.000      1.24048    2.281146\n",
      "         tp2 |   2.193977   .3267144     6.72   0.000     1.553629    2.834325\n",
      "         tp3 |   2.257696   .4937996     4.57   0.000     1.289867    3.225526\n",
      "         tp4 |   2.325849    .544286     4.27   0.000     1.259068     3.39263\n",
      "         tp5 |   2.613237    .652301     4.01   0.000      1.33475    3.891723\n",
      "         tp6 |   2.653364   .8405041     3.16   0.002     1.006006    4.300722\n",
      "         tp7 |   3.126859   1.143546     2.73   0.006     .8855509    5.368167\n",
      "         tp8 |   3.335718   1.233871     2.70   0.007     .9173758    5.754061\n",
      "         tp9 |   5.165669   .9761084     5.29   0.000     3.252532    7.078807\n",
      "        tp10 |   6.477293   1.137416     5.69   0.000     4.247998    8.706587\n",
      "        tp11 |    7.60414   1.083679     7.02   0.000     5.480169    9.728112\n",
      "        tp12 |   7.985802   1.232072     6.48   0.000     5.570985    10.40062\n",
      "        tp13 |   8.679993   1.378569     6.30   0.000     5.978047    11.38194\n",
      "        tp14 |   9.586743   1.610267     5.95   0.000     6.430678    12.74281\n",
      "        tp15 |    9.99487   1.682683     5.94   0.000     6.696872    13.29287\n",
      "        tp16 |   10.00083   1.900445     5.26   0.000     6.276031    13.72564\n",
      "        tp17 |   10.86335    2.21134     4.91   0.000     6.529204     15.1975\n",
      "        tp18 |   11.49625   2.335239     4.92   0.000     6.919269    16.07324\n",
      "        tp19 |   12.30385   2.478852     4.96   0.000     7.445386    17.16231\n",
      "        tp20 |   15.84456   3.743733     4.23   0.000     8.506975    23.18214\n",
      "        tp21 |   13.75783   3.977462     3.46   0.001     5.962147    21.55351\n",
      "        tp22 |   14.52609   4.066638     3.57   0.000     6.555626    22.49656\n",
      "        tp23 |   14.45221   3.961758     3.65   0.000     6.687309    22.21711\n",
      "        tp24 |   14.69844   4.692584     3.13   0.002     5.501146    23.89574\n",
      "        tp25 |   15.36977    4.51274     3.41   0.001     6.524958    24.21457\n",
      "        tp26 |   16.21332   4.802469     3.38   0.001     6.800654    25.62599\n",
      "        tp27 |   8.530661   3.220903     2.65   0.008     2.217807    14.84351\n",
      "        tp28 |   5.309086   1.219151     4.35   0.000     2.919594    7.698578\n",
      "------------------------------------------------------------------------------\n"
     ]
    }
   ],
   "source": [
    "csdid2 pcttefhispt lnpop* lncpop*, ivar(unitid) time(year) gvar(gvar) ///\n",
    "        method(reg) agg(event) long2"
   ]
  },
  {
   "cell_type": "code",
   "execution_count": 5,
   "metadata": {},
   "outputs": [
    {
     "name": "stdout",
     "output_type": "stream",
     "text": [
      "file figures/f3_pct_latine_event.pdf saved as PDF format\n"
     ]
    }
   ],
   "source": [
    "graph export figures/f3_pct_latine_event.pdf, replace"
   ]
  }
 ],
 "metadata": {
  "kernelspec": {
   "display_name": "Stata (nbstata)",
   "language": "stata",
   "name": "nbstata"
  },
  "language_info": {
   "file_extension": ".do",
   "mimetype": "text/x-stata",
   "name": "stata",
   "version": "17"
  }
 },
 "nbformat": 4,
 "nbformat_minor": 4
}
