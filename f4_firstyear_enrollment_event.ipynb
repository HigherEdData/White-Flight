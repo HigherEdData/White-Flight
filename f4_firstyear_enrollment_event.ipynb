{
 "cells": [
  {
   "cell_type": "markdown",
   "metadata": {},
   "source": [
    "## Figure 4: First-Year Enrollment CSDID Event Studies\n",
    "for White Flight in Higher Education? The Case of Hispanic-Serving Institutions\n",
    "\n",
    "by Laura Hamilton, Charlie Eaton, and Simon Cheng"
   ]
  },
  {
   "cell_type": "code",
   "execution_count": 1,
   "metadata": {},
   "outputs": [
    {
     "data": {
      "text/html": [
       "<style>div.jp-Notebook .datagrid-container {min-height: 448px; }</style>"
      ],
      "text/plain": [
       "<IPython.core.display.HTML object>"
      ]
     },
     "metadata": {},
     "output_type": "display_data"
    }
   ],
   "source": [
    "qui {\n",
    "    use data/hsi_white_enrollment_final3, clear\n",
    "drop if lnftfefwhitt==. \n",
    "drop if year==1990 & hispserve==1\n",
    "gen missingpanel=.\n",
    "sort unitid year\n",
    "bysort unitid: egen maxyear=max(year)\n",
    "bysort unitid: egen minyear=min(year)\n",
    "bysort unitid (year): replace missingpanel=1 if year[_n-1]!=year-1 | lnftfefwhitt==. | lnftfeftotlt==.\n",
    "replace missingpanel=. if year==1990 & lnftfefwhitt!=. & lnftfeftotlt!=.\n",
    "bysort unitid: egen missingpanelall=min(missingpanel)\n",
    "replace missingpanelall=1 if maxyear!=2019 | minyear !=1990\n",
    "bysort unitid: egen alwaystreated=min(hispserve)\n",
    "bysort unitid: egen evertreated=max(hispserve)\n",
    "drop if alwaystreated==1\n",
    "drop if missingpanelall==1\n",
    "gen treated=1\n",
    "replace treated=0 if year<hispserveyear\n",
    "}"
   ]
  },
  {
   "cell_type": "code",
   "execution_count": 2,
   "metadata": {},
   "outputs": [],
   "source": [
    "egen gvar=csgvar(treated), tvar(year) ivar(unitid)"
   ]
  },
  {
   "cell_type": "code",
   "execution_count": 3,
   "metadata": {},
   "outputs": [
    {
     "name": "stdout",
     "output_type": "stream",
     "text": [
      "lnpopulationam  lnpopulationbl  lnpopulationwh  lncpopas        lncpopwh\n",
      "lnpopulationas  lnpopulationhi  lncpopam        lncpopbl        lncpophi\n"
     ]
    }
   ],
   "source": [
    "// Display log 18-24 population by race control variable names. //\n",
    "// lnpop* is state level count. lncpop* is county level count\n",
    "ds lnpop* lncpop*, varwidth(20)"
   ]
  },
  {
   "cell_type": "markdown",
   "metadata": {},
   "source": [
    "# white first year estimates"
   ]
  },
  {
   "cell_type": "code",
   "execution_count": 4,
   "metadata": {},
   "outputs": [
    {
     "name": "stdout",
     "output_type": "stream",
     "text": [
      "..................................................\n",
      "..................................................\n",
      "..................................................\n",
      "..................................................\n",
      "..................................................\n",
      "..................................................\n",
      "..................................................\n",
      "..................................................\n",
      "..................................................\n",
      "..................................................\n",
      "..................................................\n",
      "..............................\n",
      "Difference-in-difference with Multiple Time Periods\n",
      "\n",
      "                                                        Number of obs = 14,070\n",
      "Outcome model  : regression adjustment\n",
      "Treatment model: none\n",
      "------------------------------------------------------------------------------\n",
      "             | Coefficient  Std. err.      z    P>|z|     [95% conf. interval]\n",
      "-------------+----------------------------------------------------------------\n",
      "         ATT |  -.2535455   .0690018    -3.67   0.000    -.3887866   -.1183044\n",
      "------------------------------------------------------------------------------\n",
      "Control: Never Treated\n",
      "\n",
      "See Callaway and Sant'Anna (2021) for details\n"
     ]
    },
    {
     "data": {
      "image/png": "[encoded data removed]",
      "text/plain": [
       "<IPython.core.display.Image object>"
      ]
     },
     "metadata": {},
     "output_type": "display_data"
    }
   ],
   "source": [
    "csdid lnftfefwhitt lnpop* lncpop*, ivar(unitid) time(year) gvar(gvar) ///\n",
    "        method(reg) agg(simple) long2\n",
    "qui csdid_estat event, window(-19 20)\n",
    "csdid_plot, style(rcap) scheme(plotplain) ///\n",
    "legend(off) title(Panel A: White First Year Enrollment) name(white, replace)"
   ]
  },
  {
   "cell_type": "code",
   "execution_count": 5,
   "metadata": {},
   "outputs": [
    {
     "name": "stdout",
     "output_type": "stream",
     "text": [
      "file figures/f4a_event_white_enrollment.pdf saved as PDF format\n"
     ]
    }
   ],
   "source": [
    "graph export figures/f4a_event_white_enrollment.pdf, replace"
   ]
  },
  {
   "cell_type": "code",
   "execution_count": 6,
   "metadata": {},
   "outputs": [
    {
     "name": "stdout",
     "output_type": "stream",
     "text": [
      "..................................................\n",
      "..................................................\n",
      "..................................................\n",
      "..................................................\n",
      "..................................................\n",
      "..................................................\n",
      "..................................................\n",
      "..................................................\n",
      "..................................................\n",
      "..................................................\n",
      "..................................................\n",
      "..............................\n",
      "Difference-in-difference with Multiple Time Periods\n",
      "\n",
      "                                                        Number of obs = 14,070\n",
      "Outcome model  : regression adjustment\n",
      "Treatment model: none\n",
      "------------------------------------------------------------------------------\n",
      "             | Coefficient  Std. err.      z    P>|z|     [95% conf. interval]\n",
      "-------------+----------------------------------------------------------------\n",
      "         ATT |  -.0175816   .0469974    -0.37   0.708    -.1096947    .0745315\n",
      "------------------------------------------------------------------------------\n",
      "Control: Never Treated\n",
      "\n",
      "See Callaway and Sant'Anna (2021) for details\n"
     ]
    }
   ],
   "source": [
    "csdid lnftfeftotlt lnpop* lncpop*, ivar(unitid) time(year) gvar(gvar) ///\n",
    "        method(reg) agg(simple) long2"
   ]
  },
  {
   "cell_type": "code",
   "execution_count": 7,
   "metadata": {},
   "outputs": [
    {
     "data": {
      "image/png": "[encoded data removed]",
      "text/plain": [
       "<IPython.core.display.Image object>"
      ]
     },
     "metadata": {},
     "output_type": "display_data"
    }
   ],
   "source": [
    "qui csdid_estat event, window(-19 20)\n",
    "csdid_plot, style(rcap) scheme(plotplain) ylabel(-1(.5).5) ///\n",
    "legend(off) title(Panel B: Total First Year Enrollment) name(total, replace)"
   ]
  },
  {
   "cell_type": "code",
   "execution_count": 8,
   "metadata": {},
   "outputs": [
    {
     "name": "stdout",
     "output_type": "stream",
     "text": [
      "file figures/f4b_event_total_enrollment.pdf saved as PDF format\n"
     ]
    }
   ],
   "source": [
    "graph export figures/f4b_event_total_enrollment.pdf, replace"
   ]
  },
  {
   "cell_type": "code",
   "execution_count": 9,
   "metadata": {},
   "outputs": [
    {
     "name": "stdout",
     "output_type": "stream",
     "text": [
      "Producing Long Gaps by default\n",
      "----+--- 1 ---+--- 2 ---+--- 3 ---+--- 4 ---+--- 5 \n",
      "..................................................    50\n",
      "..................................................   100\n",
      "..................................................   150\n",
      "..................................................   200\n",
      "..................................................   250\n",
      "..................................................   300\n",
      "..................................................   350\n",
      "..................................................   400\n",
      "..................................................   450\n",
      "..................................................   500\n",
      "..................................................   550\n",
      "..............................\n",
      "Difference-in-difference with Multiple Time Periods\n",
      "Outcome model  : regression adjustment\n",
      "Treatment model: none\n",
      "------------------------------------------------------------------------------\n",
      "             |               Robust\n",
      "             | Coefficient  std. err.      z    P>|z|     [95% conf. interval]\n",
      "-------------+----------------------------------------------------------------\n",
      "     Pre_avg |   .0415195   .0517757     0.80   0.423    -.0599591     .142998\n",
      "    Post_avg |  -.4423338   .1102069    -4.01   0.000    -.6583353   -.2263322\n",
      "        tm29 |  -.2761207   .0923543    -2.99   0.003    -.4571318   -.0951097\n",
      "        tm28 |   .0174829   .1650368     0.11   0.916    -.3059834    .3409491\n",
      "        tm27 |  -.0612104   .1683655    -0.36   0.716    -.3912008    .2687799\n",
      "        tm26 |  -.1340921   .1287685    -1.04   0.298    -.3864738    .1182896\n",
      "        tm25 |  -.0282461   .1218345    -0.23   0.817    -.2670374    .2105452\n",
      "        tm24 |   .0010721   .0951258     0.01   0.991     -.185371    .1875152\n",
      "        tm23 |   .1181624   .0922982     1.28   0.200    -.0627388    .2990635\n",
      "        tm22 |   .1126518   .0900361     1.25   0.211    -.0638157    .2891194\n",
      "        tm21 |   .0700716   .0828548     0.85   0.398    -.0923208    .2324639\n",
      "        tm20 |    .014713   .0971408     0.15   0.880    -.1756795    .2051055\n",
      "        tm19 |   .0416089   .0740821     0.56   0.574    -.1035894    .1868071\n",
      "        tm18 |   .0815867    .084569     0.96   0.335    -.0841656    .2473389\n",
      "        tm17 |    .052054   .0684575     0.76   0.447    -.0821203    .1862282\n",
      "        tm16 |   .0536151   .0668024     0.80   0.422    -.0773153    .1845454\n",
      "        tm15 |   .0433785   .0685179     0.63   0.527     -.090914     .177671\n",
      "        tm14 |    .059799   .0646394     0.93   0.355    -.0668918    .1864898\n",
      "        tm13 |   .0855561   .0563107     1.52   0.129    -.0248108    .1959231\n",
      "        tm12 |   .0734279   .0539623     1.36   0.174    -.0323362    .1791919\n",
      "        tm11 |   .0752014   .0520573     1.44   0.149    -.0268292    .1772319\n",
      "        tm10 |   .0959496   .0488775     1.96   0.050     .0001515    .1917478\n",
      "         tm9 |   .0723259   .0448917     1.61   0.107    -.0156602     .160312\n",
      "         tm8 |   .1120842   .0412789     2.72   0.007      .031179    .1929893\n",
      "         tm7 |   .1273277   .0381652     3.34   0.001     .0525253    .2021301\n",
      "         tm6 |   .1081896   .0368129     2.94   0.003     .0360376    .1803416\n",
      "         tm5 |   .0975069   .0339336     2.87   0.004     .0309983    .1640155\n",
      "         tm4 |   .0572971   .0320881     1.79   0.074    -.0055944    .1201886\n",
      "         tm3 |    .058152   .0282721     2.06   0.040     .0027396    .1135644\n",
      "         tm2 |   .0330002   .0219307     1.50   0.132    -.0099832    .0759836\n",
      "         tp0 |  -.0318908   .0209753    -1.52   0.128    -.0730016      .00922\n",
      "         tp1 |  -.0627801   .0247398    -2.54   0.011    -.1112691    -.014291\n",
      "         tp2 |  -.0791388   .0318277    -2.49   0.013    -.1415199   -.0167576\n",
      "         tp3 |  -.1528139   .0449596    -3.40   0.001     -.240933   -.0646948\n",
      "         tp4 |  -.1479634    .044832    -3.30   0.001    -.2358324   -.0600943\n",
      "         tp5 |  -.1929606   .0508211    -3.80   0.000    -.2925682   -.0933531\n",
      "         tp6 |  -.1538493   .0624036    -2.47   0.014    -.2761581   -.0315404\n",
      "         tp7 |  -.1677446   .0882004    -1.90   0.057    -.3406143    .0051251\n",
      "         tp8 |  -.1750304   .0924022    -1.89   0.058    -.3561354    .0060745\n",
      "         tp9 |   -.212981   .0829734    -2.57   0.010    -.3756058   -.0503561\n",
      "        tp10 |  -.2924441   .1067149    -2.74   0.006    -.5016016   -.0832867\n",
      "        tp11 |  -.2989033   .1027634    -2.91   0.004    -.5003159   -.0974907\n",
      "        tp12 |  -.3642167   .0978582    -3.72   0.000    -.5560152   -.1724181\n",
      "        tp13 |  -.3890617   .1118646    -3.48   0.001    -.6083123    -.169811\n",
      "        tp14 |  -.4460704   .1172378    -3.80   0.000    -.6758521   -.2162886\n",
      "        tp15 |  -.5074224   .1093396    -4.64   0.000    -.7217241   -.2931207\n",
      "        tp16 |  -.5087472    .122662    -4.15   0.000    -.7491602   -.2683341\n",
      "        tp17 |  -.5255115   .1406828    -3.74   0.000    -.8012448   -.2497782\n",
      "        tp18 |  -.6894825   .1755052    -3.93   0.000    -1.033466   -.3454986\n",
      "        tp19 |  -.6192152   .1551589    -3.99   0.000    -.9233212   -.3151093\n",
      "        tp20 |  -.5342573   .1667894    -3.20   0.001    -.8611585   -.2073561\n",
      "        tp21 |  -.5290211    .201572    -2.62   0.009     -.924095   -.1339471\n",
      "        tp22 |  -.6141286   .2696612    -2.28   0.023    -1.142655   -.0856022\n",
      "        tp23 |  -.6790606   .2658923    -2.55   0.011      -1.2002   -.1579214\n",
      "        tp24 |  -.7681089   .3431655    -2.24   0.025    -1.440701   -.0955168\n",
      "        tp25 |  -.9473282   .2973665    -3.19   0.001    -1.530156   -.3645007\n",
      "        tp26 |   -.773818   .2357741    -3.28   0.001    -1.235927   -.3117092\n",
      "        tp27 |  -1.083126     .25324    -4.28   0.000    -1.579467   -.5867847\n",
      "        tp28 |  -.8806027   .1412205    -6.24   0.000     -1.15739   -.6038156\n",
      "------------------------------------------------------------------------------\n"
     ]
    }
   ],
   "source": [
    "csdid2 lnftfefwhitt lnpop* lncpop*, ivar(unitid) time(year) gvar(gvar) ///\n",
    "        method(reg) agg(event) long2"
   ]
  },
  {
   "cell_type": "code",
   "execution_count": 10,
   "metadata": {},
   "outputs": [
    {
     "name": "stdout",
     "output_type": "stream",
     "text": [
      "\n",
      "       year |      Freq.     Percent        Cum.\n",
      "------------+-----------------------------------\n",
      "       1991 |          2        3.57        3.57\n",
      "       1992 |          1        1.79        5.36\n",
      "       1993 |          2        3.57        8.93\n",
      "       1996 |          1        1.79       10.71\n",
      "       1999 |          1        1.79       12.50\n",
      "       2000 |          6       10.71       23.21\n",
      "       2003 |          1        1.79       25.00\n",
      "       2004 |          1        1.79       26.79\n",
      "       2006 |          2        3.57       30.36\n",
      "       2009 |          1        1.79       32.14\n",
      "       2010 |          3        5.36       37.50\n",
      "       2011 |          1        1.79       39.29\n",
      "       2012 |          1        1.79       41.07\n",
      "       2013 |          6       10.71       51.79\n",
      "       2014 |          9       16.07       67.86\n",
      "       2015 |          5        8.93       76.79\n",
      "       2016 |          2        3.57       80.36\n",
      "       2017 |          7       12.50       92.86\n",
      "       2018 |          2        3.57       96.43\n",
      "       2019 |          2        3.57      100.00\n",
      "------------+-----------------------------------\n",
      "      Total |         56      100.00\n"
     ]
    }
   ],
   "source": [
    "tab year if year==gvar"
   ]
  }
 ],
 "metadata": {
  "kernelspec": {
   "display_name": "Stata (nbstata)",
   "language": "stata",
   "name": "nbstata"
  },
  "language_info": {
   "file_extension": ".do",
   "mimetype": "text/x-stata",
   "name": "stata",
   "version": "17"
  }
 },
 "nbformat": 4,
 "nbformat_minor": 4
}
