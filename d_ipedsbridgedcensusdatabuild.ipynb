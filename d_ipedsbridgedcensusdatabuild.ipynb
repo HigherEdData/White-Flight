{
 "cells": [
  {
   "cell_type": "code",
   "execution_count": 6,
   "metadata": {},
   "outputs": [
    {
     "name": "stdout",
     "output_type": "stream",
     "text": [
      "\n",
      "\n",
      "(201,572 observations deleted)\n",
      "\n",
      "\n",
      "\n",
      "\n",
      "\n",
      "\n",
      "\n",
      "\n",
      "file data/hdef19902019.dta saved\n",
      "\n"
     ]
    }
   ],
   "source": [
    "use /Users/Charlie/Dropbox/Stata_Notebooks/racedebtstrat/hdef19802019.dta, clear\n",
    "keep if control<3 & iclevel==1 & year>1989\n",
    "keep unitid year ftfef* tef* admitpct control cpop* population* instnm fips\n",
    "label var admitpct \"admit rate (%)\"\n",
    "label var teftotlt \"undergrads\"\n",
    "label var ftfefwhitt \"white 1st-year\"\n",
    "label var ftfefbkaat \"Black 1st-year\"\n",
    "label var ftfefhispt \"Latinx 1st-year\"\n",
    "label var ftfefasiat \"Asian 1st-year\"\n",
    "save data/hdef19902019, replace\n",
    "outsheet using data/hdef19902019.csv, replace"
   ]
  },
  {
   "cell_type": "code",
   "execution_count": null,
   "metadata": {},
   "outputs": [],
   "source": []
  }
 ],
 "metadata": {
  "kernelspec": {
   "display_name": "Stata",
   "language": "stata",
   "name": "stata"
  },
  "language_info": {
   "codemirror_mode": "stata",
   "file_extension": ".do",
   "mimetype": "text/x-stata",
   "name": "stata",
   "version": "15.1"
  }
 },
 "nbformat": 4,
 "nbformat_minor": 4
}
