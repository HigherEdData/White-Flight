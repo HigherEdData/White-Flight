{
 "cells": [
  {
   "cell_type": "code",
   "execution_count": null,
   "metadata": {},
   "outputs": [],
   "source": [
    "use /Users/Charlie/Dropbox/Stata_Notebooks/racedebtstrat/hdef19802019.dta, clear\n",
    "keep if control<3 & iclevel==1 & year>1989\n",
    "keep unitid year ftfef* tef* admitpct control cpop* population* instnm\n",
    "save data/hdef19902019, replace\n",
    "outsheet using data/hdef19902019.csv, replace"
   ]
  }
 ],
 "metadata": {
  "kernelspec": {
   "display_name": "Stata",
   "language": "stata",
   "name": "stata"
  },
  "language_info": {
   "codemirror_mode": "stata",
   "file_extension": ".do",
   "mimetype": "text/x-stata",
   "name": "stata",
   "version": "15.1"
  }
 },
 "nbformat": 4,
 "nbformat_minor": 4
}
