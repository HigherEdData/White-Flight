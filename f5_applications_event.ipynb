{
 "cells": [
  {
   "cell_type": "markdown",
   "metadata": {},
   "source": [
    "## Figure 2: Applications Panel DiD Event Study Estimates\n",
    "\n",
    "from White Flight in Higher Education? The Case of Hispanic-Serving Institutions\n",
    "\n",
    "by Laura Hamilton, Charlie Eaton, and Simon Cheng"
   ]
  },
  {
   "cell_type": "code",
   "execution_count": 1,
   "metadata": {},
   "outputs": [
    {
     "data": {
      "text/html": [
       "<style>div.jp-Notebook .datagrid-container {min-height: 448px; }</style>"
      ],
      "text/plain": [
       "<IPython.core.display.HTML object>"
      ]
     },
     "metadata": {},
     "output_type": "display_data"
    }
   ],
   "source": [
    "qui {\n",
    "    use data/hsi_ca_tx_applications, clear\n",
    "\n",
    "   * use data/hsi_white_enrollment_final2, clear\n",
    "    drop if lnWhite_app==. | lnpopulationwh==.\n",
    "   \n",
    "   drop hispserveyear\n",
    "    gen hispserveyear=year if hispserve==1\n",
    "   bysort unitid: egen hispserveyearall=min(hispserveyear)\n",
    "gen treated=0\n",
    "replace treated=1 if year>=hispserveyearall\n",
    "    drop if year>2019 | year<2000\n",
    "    bysort unitid: egen maxyear=max(year)\n",
    "bysort unitid: egen minyear=min(year)\n",
    "    gen missingpanel=.\n",
    "    bysort unitid (year): replace missingpanel=1 if year[_n-1]!=year-1\n",
    "    replace missingpanel=. if year==2000\n",
    "    bysort unitid: egen missingpanelall=min(missingpanel)\n",
    "    replace missingpanelall=1 if maxyear!=2019 | minyear !=2000\n",
    "    \n",
    "    bysort unitid: egen alwaystreated=min(treated)\n",
    "bysort unitid: egen evertreated=max(treated)\n",
    "\n",
    "}"
   ]
  },
  {
   "cell_type": "code",
   "execution_count": 2,
   "metadata": {},
   "outputs": [
    {
     "name": "stdout",
     "output_type": "stream",
     "text": [
      "(375 observations deleted)\n",
      "(67 observations deleted)\n"
     ]
    }
   ],
   "source": [
    "drop if alwaystreated==1\n",
    "drop if missingpanelall==1"
   ]
  },
  {
   "cell_type": "code",
   "execution_count": 3,
   "metadata": {},
   "outputs": [],
   "source": [
    "egen gvar=csgvar(treated), tvar(year) ivar(unitid)"
   ]
  },
  {
   "cell_type": "code",
   "execution_count": 5,
   "metadata": {},
   "outputs": [
    {
     "name": "stdout",
     "output_type": "stream",
     "text": [
      "\n",
      "       year |      Freq.     Percent        Cum.\n",
      "------------+-----------------------------------\n",
      "       2003 |          1        4.17        4.17\n",
      "       2004 |          1        4.17        8.33\n",
      "       2006 |          2        8.33       16.67\n",
      "       2009 |          1        4.17       20.83\n",
      "       2010 |          3       12.50       33.33\n",
      "       2011 |          1        4.17       37.50\n",
      "       2012 |          1        4.17       41.67\n",
      "       2013 |          4       16.67       58.33\n",
      "       2014 |          6       25.00       83.33\n",
      "       2015 |          2        8.33       91.67\n",
      "       2017 |          1        4.17       95.83\n",
      "       2018 |          1        4.17      100.00\n",
      "------------+-----------------------------------\n",
      "      Total |         24      100.00\n"
     ]
    }
   ],
   "source": [
    "tab year if year==gvar"
   ]
  },
  {
   "cell_type": "code",
   "execution_count": 14,
   "metadata": {},
   "outputs": [
    {
     "name": "stdout",
     "output_type": "stream",
     "text": [
      "Producing Long Gaps by default\n",
      "----+--- 1 ---+--- 2 ---+--- 3 ---+--- 4 ---+--- 5 \n",
      "..................................................    50\n",
      "..................................................   100\n",
      "..................................................   150\n",
      "..................................................   200\n",
      "............................\n",
      "Difference-in-difference with Multiple Time Periods\n",
      "Outcome model  : regression adjustment\n",
      "Treatment model: none\n",
      "------------------------------------------------------------------------------\n",
      "             |               Robust\n",
      "             | Coefficient  std. err.      z    P>|z|     [95% conf. interval]\n",
      "-------------+----------------------------------------------------------------\n",
      "    GAverage |  -.1358727   .0426332    -3.19   0.001    -.2194322   -.0523133\n",
      "       g2003 |  -.2309829   .1583385    -1.46   0.145    -.5413207    .0793549\n",
      "       g2004 |   .0535051   .0892631     0.60   0.549    -.1214473    .2284575\n",
      "       g2006 |  -.4939925   .1865308    -2.65   0.008    -.8595861   -.1283988\n",
      "       g2009 |  -.1342711   .0550142    -2.44   0.015     -.242097   -.0264453\n",
      "       g2010 |  -.3242744   .1990816    -1.63   0.103    -.7144672    .0659185\n",
      "       g2011 |  -.3042201   .1464246    -2.08   0.038    -.5912071   -.0172332\n",
      "       g2012 |  -.1507162    .101974    -1.48   0.139    -.3505817    .0491492\n",
      "       g2013 |  -.1522481   .0600689    -2.53   0.011    -.2699811   -.0345152\n",
      "       g2014 |  -.0456174   .0776752    -0.59   0.557     -.197858    .1066232\n",
      "       g2015 |   .0659623    .105567     0.62   0.532    -.1409452    .2728698\n",
      "       g2017 |   .1156438   .1827664     0.63   0.527    -.2425717    .4738593\n",
      "       g2018 |   .1016765   .0489044     2.08   0.038     .0058257    .1975273\n",
      "------------------------------------------------------------------------------\n"
     ]
    }
   ],
   "source": [
    "csdid2 lnWhite_app lnpop* lncpop*, ivar(unitid) time(year) gvar(gvar) ///\n",
    "        method(reg) agg(group)"
   ]
  },
  {
   "cell_type": "code",
   "execution_count": 7,
   "metadata": {},
   "outputs": [
    {
     "name": "stdout",
     "output_type": "stream",
     "text": [
      "..................................................\n",
      "..................................................\n",
      "..................................................\n",
      "..................................................\n",
      "............................\n",
      "Difference-in-difference with Multiple Time Periods\n",
      "\n",
      "                                                           Number of obs = 840\n",
      "Outcome model  : regression adjustment\n",
      "Treatment model: none\n",
      "------------------------------------------------------------------------------\n",
      "             | Coefficient  Std. err.      z    P>|z|     [95% conf. interval]\n",
      "-------------+----------------------------------------------------------------\n",
      "         ATT |  -.1855889   .0675024    -2.75   0.006    -.3178912   -.0532867\n",
      "------------------------------------------------------------------------------\n",
      "Control: Never Treated\n",
      "\n",
      "See Callaway and Sant'Anna (2021) for details\n",
      "ATT by Periods Before and After treatment\n",
      "Event Study:Dynamic effects\n",
      "------------------------------------------------------------------------------\n",
      "             | Coefficient  Std. err.      z    P>|z|     [95% conf. interval]\n",
      "-------------+----------------------------------------------------------------\n",
      "     Pre_avg |   .0626373   .0856308     0.73   0.464     -.105196    .2304706\n",
      "    Post_avg |   -.213206   .0827143    -2.58   0.010    -.3753231   -.0510889\n",
      "        Tm10 |   .1268698    .142169     0.89   0.372    -.1517762    .4055158\n",
      "         Tm9 |   .0772901   .1484284     0.52   0.603    -.2136241    .3682044\n",
      "         Tm8 |    .088092   .1311912     0.67   0.502     -.169038     .345222\n",
      "         Tm7 |   .0648964   .1103662     0.59   0.557    -.1514173    .2812102\n",
      "         Tm6 |   .0869511   .0957931     0.91   0.364    -.1007999     .274702\n",
      "         Tm5 |   .0401064   .0760543     0.53   0.598    -.1089573    .1891701\n",
      "         Tm4 |   .0596706   .0790712     0.75   0.450    -.0953061    .2146472\n",
      "         Tm3 |   .0356558   .0558165     0.64   0.523    -.0737424    .1450541\n",
      "         Tm2 |  -.0157963   .0433362    -0.36   0.715    -.1007336    .0691411\n",
      "         Tp0 |   -.017859   .0450035    -0.40   0.691    -.1060643    .0703463\n",
      "         Tp1 |   -.000876   .0664013    -0.01   0.989    -.1310203    .1292682\n",
      "         Tp2 |  -.0311015   .0615371    -0.51   0.613    -.1517119     .089509\n",
      "         Tp3 |  -.1168734   .0456408    -2.56   0.010    -.2063277   -.0274192\n",
      "         Tp4 |  -.1781205   .0770266    -2.31   0.021      -.32909   -.0271511\n",
      "         Tp5 |  -.2081835   .0899313    -2.31   0.021    -.3844457   -.0319214\n",
      "         Tp6 |  -.2063744    .103897    -1.99   0.047    -.4100087   -.0027401\n",
      "         Tp7 |   -.303705   .1213032    -2.50   0.012    -.5414549   -.0659551\n",
      "         Tp8 |  -.3809758   .1755706    -2.17   0.030    -.7250878   -.0368638\n",
      "         Tp9 |   -.437138   .1892082    -2.31   0.021    -.8079792   -.0662969\n",
      "        Tp10 |  -.4640585   .1964649    -2.36   0.018    -.8491227   -.0789944\n",
      "------------------------------------------------------------------------------\n"
     ]
    },
    {
     "data": {
      "image/png": "[encoded data removed]",
      "text/plain": [
       "<IPython.core.display.Image object>"
      ]
     },
     "metadata": {},
     "output_type": "display_data"
    }
   ],
   "source": [
    "csdid lnWhite_app lnpop* lncpop*, ivar(unitid) time(year) gvar(gvar) ///\n",
    "        method(reg) agg(simple) long2\n",
    "csdid_estat event, window(-9 10)\n",
    "csdid_plot, style(rcap) scheme(plotplain) legend(off) title(Panel A: White Applications)"
   ]
  },
  {
   "cell_type": "code",
   "execution_count": 6,
   "metadata": {},
   "outputs": [
    {
     "name": "stdout",
     "output_type": "stream",
     "text": [
      "file figures/f5a_event_white_applications.pdf saved as PDF format\n"
     ]
    }
   ],
   "source": [
    "graph export figures/f5a_event_white_applications.pdf, replace"
   ]
  },
  {
   "cell_type": "code",
   "execution_count": 17,
   "metadata": {},
   "outputs": [
    {
     "data": {
      "image/png": "[encoded data removed]",
      "text/plain": [
       "<IPython.core.display.Image object>"
      ]
     },
     "metadata": {},
     "output_type": "display_data"
    }
   ],
   "source": [
    "csdid lntot_app lnpop* lncpop*, ivar(unitid) time(year) gvar(gvar) ///\n",
    "        method(reg) agg(simple) long2\n",
    "qui csdid_estat event, window(-9 10) \n",
    "csdid_plot, style(rcap) scheme(plotplain) ylabel(-1(.5).5) ///\n",
    "legend(off) title(Panel B: Total Applications)"
   ]
  },
  {
   "cell_type": "code",
   "execution_count": 18,
   "metadata": {},
   "outputs": [
    {
     "name": "stdout",
     "output_type": "stream",
     "text": [
      "file figures/f5b_event_total_applications.pdf saved as PDF format\n"
     ]
    }
   ],
   "source": [
    "graph export figures/f5b_event_total_applications.pdf, replace"
   ]
  },
  {
   "cell_type": "code",
   "execution_count": 10,
   "metadata": {},
   "outputs": [
    {
     "name": "stdout",
     "output_type": "stream",
     "text": [
      "\n",
      "       year |      Freq.     Percent        Cum.\n",
      "------------+-----------------------------------\n",
      "       2003 |          1        4.17        4.17\n",
      "       2004 |          1        4.17        8.33\n",
      "       2006 |          2        8.33       16.67\n",
      "       2009 |          1        4.17       20.83\n",
      "       2010 |          3       12.50       33.33\n",
      "       2011 |          1        4.17       37.50\n",
      "       2012 |          1        4.17       41.67\n",
      "       2013 |          4       16.67       58.33\n",
      "       2014 |          6       25.00       83.33\n",
      "       2015 |          2        8.33       91.67\n",
      "       2017 |          1        4.17       95.83\n",
      "       2018 |          1        4.17      100.00\n",
      "------------+-----------------------------------\n",
      "      Total |         24      100.00\n"
     ]
    }
   ],
   "source": [
    "tab year if year==gvar"
   ]
  },
  {
   "cell_type": "code",
   "execution_count": null,
   "metadata": {},
   "outputs": [],
   "source": []
  }
 ],
 "metadata": {
  "kernelspec": {
   "display_name": "Stata (nbstata)",
   "language": "stata",
   "name": "nbstata"
  },
  "language_info": {
   "file_extension": ".do",
   "mimetype": "text/x-stata",
   "name": "stata",
   "version": "17"
  }
 },
 "nbformat": 4,
 "nbformat_minor": 4
}
