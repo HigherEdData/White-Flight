{
 "cells": [
  {
   "cell_type": "markdown",
   "metadata": {},
   "source": [
    "## Table 3: CA and TX White Applications Panel DiD Estimates \n",
    "\n",
    "from White Flight in Higher Education? The Case of Hispanic-Serving Institutions\n",
    "\n",
    "by Laura Hamilton, Charlie Eaton, and Simon Cheng"
   ]
  },
  {
   "cell_type": "code",
   "execution_count": 1,
   "metadata": {},
   "outputs": [
    {
     "data": {
      "text/html": [
       "<style>div.jp-Notebook .datagrid-container {min-height: 448px; }</style>"
      ],
      "text/plain": [
       "<IPython.core.display.HTML object>"
      ]
     },
     "metadata": {},
     "output_type": "display_data"
    }
   ],
   "source": [
    "qui {\n",
    "   * use data/hsi_applications, clear \n",
    "    use data/hsi_ca_tx_applications, clear\n",
    "\n",
    "   * use data/hsi_white_enrollment_final2, clear\n",
    "    drop if lnWhite_app==. | lnpopulationwh==. \n",
    "   \n",
    "   drop hispserveyear\n",
    "    gen hispserveyear=year if hispserve==1\n",
    "   bysort unitid: egen hispserveyearall=min(hispserveyear)\n",
    "gen treated=0\n",
    "replace treated=1 if year>=hispserveyearall\n",
    "    drop if year>2019 | year<2000\n",
    "    bysort unitid: egen maxyear=max(year)\n",
    "bysort unitid: egen minyear=min(year)\n",
    "    gen missingpanel=.\n",
    "    bysort unitid (year): replace missingpanel=1 if year[_n-1]!=year-1\n",
    "    replace missingpanel=. if year==2000\n",
    "    bysort unitid: egen missingpanelall=min(missingpanel)\n",
    "    replace missingpanelall=1 if maxyear!=2019 | minyear !=2000\n",
    "    \n",
    "    bysort unitid: egen alwaystreated=min(treated)\n",
    "bysort unitid: egen evertreated=max(treated)\n",
    "}"
   ]
  },
  {
   "cell_type": "code",
   "execution_count": 2,
   "metadata": {},
   "outputs": [
    {
     "name": "stdout",
     "output_type": "stream",
     "text": [
      "(375 observations deleted)\n",
      "(67 observations deleted)\n"
     ]
    }
   ],
   "source": [
    "egen gvar=csgvar(treated), tvar(year) ivar(unitid)\n",
    "drop if alwaystreated==1\n",
    "drop if missingpanelall==1\n",
    "rename treated SimpleATT"
   ]
  },
  {
   "cell_type": "code",
   "execution_count": 3,
   "metadata": {},
   "outputs": [
    {
     "name": "stdout",
     "output_type": "stream",
     "text": [
      "(MWFE estimator converged in 2 iterations)\n",
      "\n",
      "HDFE Linear regression                            Number of obs   =        840\n",
      "Absorbing 2 HDFE groups                           F(  11,     41) =       6.02\n",
      "Statistics robust to heteroskedasticity           Prob > F        =     0.0000\n",
      "                                                  R-squared       =     0.9732\n",
      "                                                  Adj R-squared   =     0.9707\n",
      "                                                  Within R-sq.    =     0.1825\n",
      "Number of clusters (unitid)  =         42         Root MSE        =     0.2237\n",
      "\n",
      "                                (Std. err. adjusted for 42 clusters in unitid)\n",
      "------------------------------------------------------------------------------\n",
      "             |               Robust\n",
      " lnWhite_app | Coefficient  std. err.      t    P>|t|     [95% conf. interval]\n",
      "-------------+----------------------------------------------------------------\n",
      "lnpopulati~m |   3.691883   1.369466     2.70   0.010     .9261904    6.457576\n",
      "lnpopulati~s |  -2.964854   1.345311    -2.20   0.033    -5.681765   -.2479429\n",
      "lnpopulati~l |  -2.864533   1.967635    -1.46   0.153    -6.838254    1.109187\n",
      "lnpopulati~i |   -3.43061   2.015844    -1.70   0.096     -7.50169      .64047\n",
      "lnpopulati~h |   7.265397   1.805802     4.02   0.000     3.618506    10.91229\n",
      "    lncpopam |  -.1545206   .1042613    -1.48   0.146    -.3650806    .0560394\n",
      "    lncpopas |    .086818   .2359741     0.37   0.715    -.3897414    .5633773\n",
      "    lncpopbl |  -.0850031   .2267357    -0.37   0.710    -.5429051    .3728989\n",
      "    lncpopwh |   1.215116   .3963047     3.07   0.004     .4147626     2.01547\n",
      "    lncpophi |  -.5932608   .3796426    -1.56   0.126    -1.359965    .1734429\n",
      "   SimpleATT |  -.1272596   .0563649    -2.26   0.029    -.2410908   -.0134284\n",
      "       _cons |  -13.39887   14.24379    -0.94   0.352    -42.16479    15.36704\n",
      "------------------------------------------------------------------------------\n",
      "\n",
      "Absorbed degrees of freedom:\n",
      "-----------------------------------------------------+\n",
      " Absorbed FE | Categories  - Redundant  = Num. Coefs |\n",
      "-------------+---------------------------------------|\n",
      "      unitid |        42          42           0    *|\n",
      "        year |        20           0          20     |\n",
      "-----------------------------------------------------+\n",
      "* = FE nested within cluster; treated as redundant for DoF computation\n",
      "(est1 stored)\n"
     ]
    }
   ],
   "source": [
    "eststo: reghdfe lnWhite_app lnpop* lncpop* SimpleATT, absorb(unitid year) cluster(unitid)"
   ]
  },
  {
   "cell_type": "code",
   "execution_count": 4,
   "metadata": {},
   "outputs": [
    {
     "name": "stdout",
     "output_type": "stream",
     "text": [
      "Producing Long Gaps by default\n",
      "----+--- 1 ---+--- 2 ---+--- 3 ---+--- 4 ---+--- 5 \n",
      "..................................................    50\n",
      "..................................................   100\n",
      "..................................................   150\n",
      "..................................................   200\n",
      "............................\n",
      "Difference-in-difference with Multiple Time Periods\n",
      "Outcome model  : regression adjustment\n",
      "Treatment model: none\n",
      "------------------------------------------------------------------------------\n",
      "             |               Robust\n",
      "             | Coefficient  std. err.      z    P>|z|     [95% conf. interval]\n",
      "-------------+----------------------------------------------------------------\n",
      "   SimpleATT |  -.1536081   .0608414    -2.52   0.012     -.272855   -.0343612\n",
      "------------------------------------------------------------------------------\n",
      "(est2 stored)\n"
     ]
    }
   ],
   "source": [
    "eststo: csdid2 lnWhite_app SimpleATT lnpop* lncpop*, ivar(unitid) time(year) gvar(gvar) ///\n",
    "        method(reg) agg(simple) notyet"
   ]
  },
  {
   "cell_type": "code",
   "execution_count": 3,
   "metadata": {},
   "outputs": [
    {
     "name": "stdout",
     "output_type": "stream",
     "text": [
      "\n",
      "       year |      Freq.     Percent        Cum.\n",
      "------------+-----------------------------------\n",
      "       2006 |          2       16.67       16.67\n",
      "       2009 |          1        8.33       25.00\n",
      "       2010 |          3       25.00       50.00\n",
      "       2011 |          1        8.33       58.33\n",
      "       2012 |          1        8.33       66.67\n",
      "       2013 |          4       33.33      100.00\n",
      "------------+-----------------------------------\n",
      "      Total |         12      100.00\n"
     ]
    }
   ],
   "source": [
    "tab year if gvar==year & gvar<2014 & gvar!=2004 & gvar!=2003"
   ]
  },
  {
   "cell_type": "code",
   "execution_count": 5,
   "metadata": {},
   "outputs": [
    {
     "name": "stdout",
     "output_type": "stream",
     "text": [
      "Bootstrap replications (500). This may take some time.\n",
      "----+--- 1 ---+--- 2 ---+--- 3 ---+--- 4 ---+--- 5\n",
      "..................................................     50\n",
      "..................................................     100\n",
      "..................................................     150\n",
      "..................................................     200\n",
      "..................................................     250\n",
      "..................................................     300\n",
      "..................................................     350\n",
      "..................................................     400\n",
      "..................................................     450\n",
      "..................................................     500\n",
      "\n",
      "\n",
      "Synthetic Difference-in-Differences Estimator\n",
      "\n",
      "-----------------------------------------------------------------------------\n",
      " lnWhite_app |     ATT     Std. Err.     t      P>|t|    [95% Conf. Interval]\n",
      "-------------+---------------------------------------------------------------\n",
      "   SimpleATT |  -0.16263    0.06244    -2.60    0.009    -0.28501    -0.04026\n",
      "-----------------------------------------------------------------------------\n",
      "95% CIs and p-values are based on Large-Sample approximations.\n",
      "Refer to Arkhangelsky et al., (2020) for theoretical derivations.\n",
      "(est2 stored)\n"
     ]
    }
   ],
   "source": [
    "eststo: sdid lnWhite_app unitid year SimpleATT ///\n",
    ", vce(bootstrap) covariates(lnpop* lncpop*) seed(1234) reps(500)"
   ]
  },
  {
   "cell_type": "code",
   "execution_count": 8,
   "metadata": {},
   "outputs": [
    {
     "name": "stdout",
     "output_type": "stream",
     "text": [
      "Placebo replications (500). This may take some time.\n",
      "----+--- 1 ---+--- 2 ---+--- 3 ---+--- 4 ---+--- 5\n",
      "..................................................     50\n",
      "..................................................     100\n",
      "..................................................     150\n",
      "..................................................     200\n",
      "..................................................     250\n",
      "..................................................     300\n",
      "..................................................     350\n",
      "..................................................     400\n",
      "..................................................     450\n",
      "..................................................     500\n",
      "\n",
      "\n",
      "Synthetic Difference-in-Differences Estimator\n",
      "\n",
      "-----------------------------------------------------------------------------\n",
      " lnWhite_app |     ATT     Std. Err.     t      P>|t|    [95% Conf. Interval]\n",
      "-------------+---------------------------------------------------------------\n",
      "   SimpleATT |  -0.22917    0.12877    -1.78    0.075    -0.48156     0.02322\n",
      "-----------------------------------------------------------------------------\n",
      "95% CIs and p-values are based on Large-Sample approximations.\n",
      "Refer to Arkhangelsky et al., (2020) for theoretical derivations.\n",
      "(est3 stored)\n"
     ]
    }
   ],
   "source": [
    "eststo: sdid lnWhite_app unitid year SimpleATT if gvar<2014 & gvar!=2004 & gvar!=2003 ///\n",
    ", vce(placebo) covariates(lnpop* lncpop*) seed(1234) reps(500)"
   ]
  },
  {
   "cell_type": "code",
   "execution_count": 9,
   "metadata": {},
   "outputs": [
    {
     "data": {
      "text/html": [
       "\n",
       "<table border=\"0\" width=\"*\">\n",
       "<tr><td colspan=4><hr></td></tr>\n",
       "<tr><td>                    </td><td>       (1)              </td><td>       (2)              </td><td>       (3)              </td></tr>\n",
       "<tr><td>                    </td><td> Panel DiD              </td><td>Panel SDiD Bootstrap              </td><td>Panel SDiD Placebo              </td></tr>\n",
       "<tr><td colspan=4><hr></td></tr>\n",
       "<tr><td>SimpleATT           </td><td>    -0.104<sup>+</sup>  </td><td>    -0.163<sup>**</sup> </td><td>    -0.229<sup>+</sup>  </td></tr>\n",
       "<tr><td>                    </td><td>   (0.056)              </td><td>   (0.062)              </td><td>   (0.129)              </td></tr>\n",
       "<tr><td colspan=4><hr></td></tr>\n",
       "<tr><td>schools             </td><td>                        </td><td>        42              </td><td>        30              </td></tr>\n",
       "<tr><td>N                   </td><td>                        </td><td>       840              </td><td>       600              </td></tr>\n",
       "<tr><td colspan=4><hr></td></tr>\n",
       "</table>\n",
       "\n"
      ],
      "text/plain": [
       "This front-end or document format cannot display HTML"
      ]
     },
     "metadata": {},
     "output_type": "display_data"
    }
   ],
   "source": [
    "esttab , star(+ .1 * .05 ** .01 *** .001) ///\n",
    "        stats(N_clust N, fmt(%9.0fc %9.0fc) label(\"schools\" \"N\")) ///\n",
    "        se(%9.3fc) b(%9.3fc) ///\n",
    "        label mtitle(\"Panel DiD\" \"Panel SDiD Bootstrap\" \"Panel SDiD Placebo\") ///\n",
    "        nonotes modelwidth(10)"
   ]
  },
  {
   "cell_type": "code",
   "execution_count": 8,
   "metadata": {},
   "outputs": [
    {
     "name": "stdout",
     "output_type": "stream",
     "text": [
      "\n",
      "file tables/t2_did_applications.rtf already exists\n"
     ]
    },
    {
     "name": "stderr",
     "output_type": "stream",
     "text": [
      "r(602);\n",
      "r(602);\n"
     ]
    },
    {
     "name": "stdout",
     "output_type": "stream",
     "text": [
      "\n",
      "\n"
     ]
    }
   ],
   "source": [
    "qui esttab using ///\n",
    "    tables/t2_did_applications.rtf, ///\n",
    "    star(+ .1 * .05 ** .01 *** .001) ///\n",
    "        stats(N_clust N, fmt(%9.0fc %9.0fc) label(\"schools\" \"N\")) ///\n",
    "        se(%9.3fc) b(%9.3fc) ///\n",
    "        label mtitle(\"Panel DiD\" \"Panel SDiD Bootstrap\" \"Panel SDiD Placebo\") ///\n",
    "        nonotes modelwidth(10) replace"
   ]
  },
  {
   "cell_type": "code",
   "execution_count": null,
   "metadata": {},
   "outputs": [],
   "source": []
  }
 ],
 "metadata": {
  "kernelspec": {
   "display_name": "Stata (nbstata)",
   "language": "stata",
   "name": "nbstata"
  },
  "language_info": {
   "file_extension": ".do",
   "mimetype": "text/x-stata",
   "name": "stata",
   "version": "17"
  }
 },
 "nbformat": 4,
 "nbformat_minor": 4
}
